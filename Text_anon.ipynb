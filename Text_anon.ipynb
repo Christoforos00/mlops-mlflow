{
 "cells": [
  {
   "cell_type": "markdown",
   "id": "88c98329",
   "metadata": {},
   "source": [
    "# Introduction"
   ]
  },
  {
   "cell_type": "markdown",
   "id": "64fb996a",
   "metadata": {},
   "source": [
    "On one of my projects I faced a problem of Personal Identifiable Information (PII). To share our data with third-party people we decided to add an anonymization step to the preprocessing. In this article I will describe an example of data anonymization using two awesome libraries: presidio and faker.   \n",
    "\n",
    "Agenda:\n",
    "1. presidio analyzer for finding sensitive data\n",
    "2. presidio anonymizer\n",
    "3. faker for generating diverse synthetic entities \n",
    "4. final pipeline for text anonymization"
   ]
  },
  {
   "cell_type": "markdown",
   "id": "932f1ca2",
   "metadata": {},
   "source": [
    "# Analyzer"
   ]
  },
  {
   "cell_type": "markdown",
   "id": "fa9da5e7",
   "metadata": {},
   "source": [
    "Presidio supports both spaCy and Stanza as its internal NLP engine. https://microsoft.github.io/presidio/analyzer/customizing_nlp_models/  \n",
    "\n",
    "I prefer spacy and that's why I will download a model for it. "
   ]
  },
  {
   "cell_type": "code",
   "execution_count": null,
   "id": "ba4c8f8c",
   "metadata": {},
   "outputs": [],
   "source": [
    "# %%capture\n",
    "# !python -m spacy download fr_dep_news_trf"
   ]
  },
  {
   "cell_type": "markdown",
   "id": "4b4d8800",
   "metadata": {},
   "source": [
    "Then we need to expricitly select this model as by default the analyser uses spacy en_core_web_lg for English language"
   ]
  },
  {
   "cell_type": "code",
   "execution_count": null,
   "id": "5d5b0d80",
   "metadata": {},
   "outputs": [],
   "source": [
    "# Create configuration containing engine name and models\n",
    "configuration = {\n",
    "    \"nlp_engine_name\": \"spacy\",\n",
    "    \"models\": [{\"lang_code\": \"fr\", \"model_name\": \"fr_core_news_md\"}],\n",
    "}"
   ]
  },
  {
   "cell_type": "code",
   "execution_count": 25,
   "id": "71bef7f5",
   "metadata": {},
   "outputs": [],
   "source": [
    "# from presidio_analyzer import RecognizerRegistry\n",
    "# from presidio_analyzer.predefined_recognizers import PhoneRecognizer, DateRecognizer\n",
    "\n",
    "# date = DateRecognizer(supported_language=\"fr\")\n",
    "# # phone = PhoneRecognizer(supported_language=\"fr\")\n",
    "# registry = RecognizerRegistry(supported_languages=[\"fr\"])\n",
    "# registry.load_predefined_recognizers(languages=[\"fr\"])\n",
    "# registry.add_recognizer(date)"
   ]
  },
  {
   "cell_type": "code",
   "execution_count": 26,
   "id": "179d4964",
   "metadata": {},
   "outputs": [
    {
     "ename": "ValueError",
     "evalue": "[E002] Can't find factory for 'curated_transformer' for language French (fr). This usually happens when spaCy calls `nlp.create_pipe` with a custom component name that's not registered on the current language class. If you're using a custom component, make sure you've added the decorator `@Language.component` (for function components) or `@Language.factory` (for class components).\n\nAvailable factories: attribute_ruler, tok2vec, merge_noun_chunks, merge_entities, merge_subtokens, token_splitter, doc_cleaner, parser, beam_parser, lemmatizer, trainable_lemmatizer, entity_linker, entity_ruler, tagger, morphologizer, ner, beam_ner, senter, sentencizer, spancat, spancat_singlelabel, span_finder, future_entity_ruler, span_ruler, textcat, textcat_multilabel, fr.lemmatizer",
     "output_type": "error",
     "traceback": [
      "\u001b[0;31m---------------------------------------------------------------------------\u001b[0m",
      "\u001b[0;31mValueError\u001b[0m                                Traceback (most recent call last)",
      "Cell \u001b[0;32mIn[26], line 6\u001b[0m\n\u001b[1;32m      4\u001b[0m \u001b[38;5;66;03m# Create NLP engine based on configuration\u001b[39;00m\n\u001b[1;32m      5\u001b[0m provider \u001b[38;5;241m=\u001b[39m NlpEngineProvider(nlp_configuration\u001b[38;5;241m=\u001b[39mconfiguration)\n\u001b[0;32m----> 6\u001b[0m nlp_engine \u001b[38;5;241m=\u001b[39m \u001b[43mprovider\u001b[49m\u001b[38;5;241;43m.\u001b[39;49m\u001b[43mcreate_engine\u001b[49m\u001b[43m(\u001b[49m\u001b[43m)\u001b[49m\n\u001b[1;32m      8\u001b[0m \u001b[38;5;66;03m# the languages are needed to load country-specific recognizers \u001b[39;00m\n\u001b[1;32m      9\u001b[0m \u001b[38;5;66;03m# for finding phones, passport numbers, etc.\u001b[39;00m\n\u001b[1;32m     10\u001b[0m analyzer \u001b[38;5;241m=\u001b[39m AnalyzerEngine(nlp_engine\u001b[38;5;241m=\u001b[39mnlp_engine,\n\u001b[1;32m     11\u001b[0m                           supported_languages\u001b[38;5;241m=\u001b[39m[\u001b[38;5;124m\"\u001b[39m\u001b[38;5;124mfr\u001b[39m\u001b[38;5;124m\"\u001b[39m])\n",
      "File \u001b[0;32m~/bnp/coach/virtualenv/lib/python3.9/site-packages/presidio_analyzer/nlp_engine/nlp_engine_provider.py:100\u001b[0m, in \u001b[0;36mNlpEngineProvider.create_engine\u001b[0;34m(self)\u001b[0m\n\u001b[1;32m     93\u001b[0m     ner_model_configuration \u001b[38;5;241m=\u001b[39m NerModelConfiguration\u001b[38;5;241m.\u001b[39mfrom_dict(\n\u001b[1;32m     94\u001b[0m         ner_model_configuration\n\u001b[1;32m     95\u001b[0m     )\n\u001b[1;32m     97\u001b[0m engine \u001b[38;5;241m=\u001b[39m nlp_engine_class(\n\u001b[1;32m     98\u001b[0m     models\u001b[38;5;241m=\u001b[39mnlp_models, ner_model_configuration\u001b[38;5;241m=\u001b[39mner_model_configuration\n\u001b[1;32m     99\u001b[0m )\n\u001b[0;32m--> 100\u001b[0m \u001b[43mengine\u001b[49m\u001b[38;5;241;43m.\u001b[39;49m\u001b[43mload\u001b[49m\u001b[43m(\u001b[49m\u001b[43m)\u001b[49m\n\u001b[1;32m    101\u001b[0m logger\u001b[38;5;241m.\u001b[39minfo(\n\u001b[1;32m    102\u001b[0m     \u001b[38;5;124mf\u001b[39m\u001b[38;5;124m\"\u001b[39m\u001b[38;5;124mCreated NLP engine: \u001b[39m\u001b[38;5;132;01m{\u001b[39;00mengine\u001b[38;5;241m.\u001b[39mengine_name\u001b[38;5;132;01m}\u001b[39;00m\u001b[38;5;124m. \u001b[39m\u001b[38;5;124m\"\u001b[39m\n\u001b[1;32m    103\u001b[0m     \u001b[38;5;124mf\u001b[39m\u001b[38;5;124m\"\u001b[39m\u001b[38;5;124mLoaded models: \u001b[39m\u001b[38;5;132;01m{\u001b[39;00m\u001b[38;5;28mlist\u001b[39m(engine\u001b[38;5;241m.\u001b[39mnlp\u001b[38;5;241m.\u001b[39mkeys())\u001b[38;5;132;01m}\u001b[39;00m\u001b[38;5;124m\"\u001b[39m\n\u001b[1;32m    104\u001b[0m )\n\u001b[1;32m    105\u001b[0m \u001b[38;5;28;01mreturn\u001b[39;00m engine\n",
      "File \u001b[0;32m~/bnp/coach/virtualenv/lib/python3.9/site-packages/presidio_analyzer/nlp_engine/spacy_nlp_engine.py:62\u001b[0m, in \u001b[0;36mSpacyNlpEngine.load\u001b[0;34m(self)\u001b[0m\n\u001b[1;32m     60\u001b[0m \u001b[38;5;28mself\u001b[39m\u001b[38;5;241m.\u001b[39m_validate_model_params(model)\n\u001b[1;32m     61\u001b[0m \u001b[38;5;28mself\u001b[39m\u001b[38;5;241m.\u001b[39m_download_spacy_model_if_needed(model[\u001b[38;5;124m\"\u001b[39m\u001b[38;5;124mmodel_name\u001b[39m\u001b[38;5;124m\"\u001b[39m])\n\u001b[0;32m---> 62\u001b[0m \u001b[38;5;28mself\u001b[39m\u001b[38;5;241m.\u001b[39mnlp[model[\u001b[38;5;124m\"\u001b[39m\u001b[38;5;124mlang_code\u001b[39m\u001b[38;5;124m\"\u001b[39m]] \u001b[38;5;241m=\u001b[39m \u001b[43mspacy\u001b[49m\u001b[38;5;241;43m.\u001b[39;49m\u001b[43mload\u001b[49m\u001b[43m(\u001b[49m\u001b[43mmodel\u001b[49m\u001b[43m[\u001b[49m\u001b[38;5;124;43m\"\u001b[39;49m\u001b[38;5;124;43mmodel_name\u001b[39;49m\u001b[38;5;124;43m\"\u001b[39;49m\u001b[43m]\u001b[49m\u001b[43m)\u001b[49m\n",
      "File \u001b[0;32m~/bnp/coach/virtualenv/lib/python3.9/site-packages/spacy/__init__.py:51\u001b[0m, in \u001b[0;36mload\u001b[0;34m(name, vocab, disable, enable, exclude, config)\u001b[0m\n\u001b[1;32m     27\u001b[0m \u001b[38;5;28;01mdef\u001b[39;00m\u001b[38;5;250m \u001b[39m\u001b[38;5;21mload\u001b[39m(\n\u001b[1;32m     28\u001b[0m     name: Union[\u001b[38;5;28mstr\u001b[39m, Path],\n\u001b[1;32m     29\u001b[0m     \u001b[38;5;241m*\u001b[39m,\n\u001b[0;32m   (...)\u001b[0m\n\u001b[1;32m     34\u001b[0m     config: Union[Dict[\u001b[38;5;28mstr\u001b[39m, Any], Config] \u001b[38;5;241m=\u001b[39m util\u001b[38;5;241m.\u001b[39mSimpleFrozenDict(),\n\u001b[1;32m     35\u001b[0m ) \u001b[38;5;241m-\u001b[39m\u001b[38;5;241m>\u001b[39m Language:\n\u001b[1;32m     36\u001b[0m \u001b[38;5;250m    \u001b[39m\u001b[38;5;124;03m\"\"\"Load a spaCy model from an installed package or a local path.\u001b[39;00m\n\u001b[1;32m     37\u001b[0m \n\u001b[1;32m     38\u001b[0m \u001b[38;5;124;03m    name (str): Package name or model path.\u001b[39;00m\n\u001b[0;32m   (...)\u001b[0m\n\u001b[1;32m     49\u001b[0m \u001b[38;5;124;03m    RETURNS (Language): The loaded nlp object.\u001b[39;00m\n\u001b[1;32m     50\u001b[0m \u001b[38;5;124;03m    \"\"\"\u001b[39;00m\n\u001b[0;32m---> 51\u001b[0m     \u001b[38;5;28;01mreturn\u001b[39;00m \u001b[43mutil\u001b[49m\u001b[38;5;241;43m.\u001b[39;49m\u001b[43mload_model\u001b[49m\u001b[43m(\u001b[49m\n\u001b[1;32m     52\u001b[0m \u001b[43m        \u001b[49m\u001b[43mname\u001b[49m\u001b[43m,\u001b[49m\n\u001b[1;32m     53\u001b[0m \u001b[43m        \u001b[49m\u001b[43mvocab\u001b[49m\u001b[38;5;241;43m=\u001b[39;49m\u001b[43mvocab\u001b[49m\u001b[43m,\u001b[49m\n\u001b[1;32m     54\u001b[0m \u001b[43m        \u001b[49m\u001b[43mdisable\u001b[49m\u001b[38;5;241;43m=\u001b[39;49m\u001b[43mdisable\u001b[49m\u001b[43m,\u001b[49m\n\u001b[1;32m     55\u001b[0m \u001b[43m        \u001b[49m\u001b[43menable\u001b[49m\u001b[38;5;241;43m=\u001b[39;49m\u001b[43menable\u001b[49m\u001b[43m,\u001b[49m\n\u001b[1;32m     56\u001b[0m \u001b[43m        \u001b[49m\u001b[43mexclude\u001b[49m\u001b[38;5;241;43m=\u001b[39;49m\u001b[43mexclude\u001b[49m\u001b[43m,\u001b[49m\n\u001b[1;32m     57\u001b[0m \u001b[43m        \u001b[49m\u001b[43mconfig\u001b[49m\u001b[38;5;241;43m=\u001b[39;49m\u001b[43mconfig\u001b[49m\u001b[43m,\u001b[49m\n\u001b[1;32m     58\u001b[0m \u001b[43m    \u001b[49m\u001b[43m)\u001b[49m\n",
      "File \u001b[0;32m~/bnp/coach/virtualenv/lib/python3.9/site-packages/spacy/util.py:465\u001b[0m, in \u001b[0;36mload_model\u001b[0;34m(name, vocab, disable, enable, exclude, config)\u001b[0m\n\u001b[1;32m    463\u001b[0m     \u001b[38;5;28;01mreturn\u001b[39;00m get_lang_class(name\u001b[38;5;241m.\u001b[39mreplace(\u001b[38;5;124m\"\u001b[39m\u001b[38;5;124mblank:\u001b[39m\u001b[38;5;124m\"\u001b[39m, \u001b[38;5;124m\"\u001b[39m\u001b[38;5;124m\"\u001b[39m))()\n\u001b[1;32m    464\u001b[0m \u001b[38;5;28;01mif\u001b[39;00m is_package(name):  \u001b[38;5;66;03m# installed as package\u001b[39;00m\n\u001b[0;32m--> 465\u001b[0m     \u001b[38;5;28;01mreturn\u001b[39;00m \u001b[43mload_model_from_package\u001b[49m\u001b[43m(\u001b[49m\u001b[43mname\u001b[49m\u001b[43m,\u001b[49m\u001b[43m \u001b[49m\u001b[38;5;241;43m*\u001b[39;49m\u001b[38;5;241;43m*\u001b[39;49m\u001b[43mkwargs\u001b[49m\u001b[43m)\u001b[49m  \u001b[38;5;66;03m# type: ignore[arg-type]\u001b[39;00m\n\u001b[1;32m    466\u001b[0m \u001b[38;5;28;01mif\u001b[39;00m Path(name)\u001b[38;5;241m.\u001b[39mexists():  \u001b[38;5;66;03m# path to model data directory\u001b[39;00m\n\u001b[1;32m    467\u001b[0m     \u001b[38;5;28;01mreturn\u001b[39;00m load_model_from_path(Path(name), \u001b[38;5;241m*\u001b[39m\u001b[38;5;241m*\u001b[39mkwargs)  \u001b[38;5;66;03m# type: ignore[arg-type]\u001b[39;00m\n",
      "File \u001b[0;32m~/bnp/coach/virtualenv/lib/python3.9/site-packages/spacy/util.py:501\u001b[0m, in \u001b[0;36mload_model_from_package\u001b[0;34m(name, vocab, disable, enable, exclude, config)\u001b[0m\n\u001b[1;32m    484\u001b[0m \u001b[38;5;250m\u001b[39m\u001b[38;5;124;03m\"\"\"Load a model from an installed package.\u001b[39;00m\n\u001b[1;32m    485\u001b[0m \n\u001b[1;32m    486\u001b[0m \u001b[38;5;124;03mname (str): The package name.\u001b[39;00m\n\u001b[0;32m   (...)\u001b[0m\n\u001b[1;32m    498\u001b[0m \u001b[38;5;124;03mRETURNS (Language): The loaded nlp object.\u001b[39;00m\n\u001b[1;32m    499\u001b[0m \u001b[38;5;124;03m\"\"\"\u001b[39;00m\n\u001b[1;32m    500\u001b[0m \u001b[38;5;28mcls\u001b[39m \u001b[38;5;241m=\u001b[39m importlib\u001b[38;5;241m.\u001b[39mimport_module(name)\n\u001b[0;32m--> 501\u001b[0m \u001b[38;5;28;01mreturn\u001b[39;00m \u001b[38;5;28;43mcls\u001b[39;49m\u001b[38;5;241;43m.\u001b[39;49m\u001b[43mload\u001b[49m\u001b[43m(\u001b[49m\u001b[43mvocab\u001b[49m\u001b[38;5;241;43m=\u001b[39;49m\u001b[43mvocab\u001b[49m\u001b[43m,\u001b[49m\u001b[43m \u001b[49m\u001b[43mdisable\u001b[49m\u001b[38;5;241;43m=\u001b[39;49m\u001b[43mdisable\u001b[49m\u001b[43m,\u001b[49m\u001b[43m \u001b[49m\u001b[43menable\u001b[49m\u001b[38;5;241;43m=\u001b[39;49m\u001b[43menable\u001b[49m\u001b[43m,\u001b[49m\u001b[43m \u001b[49m\u001b[43mexclude\u001b[49m\u001b[38;5;241;43m=\u001b[39;49m\u001b[43mexclude\u001b[49m\u001b[43m,\u001b[49m\u001b[43m \u001b[49m\u001b[43mconfig\u001b[49m\u001b[38;5;241;43m=\u001b[39;49m\u001b[43mconfig\u001b[49m\u001b[43m)\u001b[49m\n",
      "File \u001b[0;32m~/bnp/coach/virtualenv/lib/python3.9/site-packages/fr_dep_news_trf/__init__.py:10\u001b[0m, in \u001b[0;36mload\u001b[0;34m(**overrides)\u001b[0m\n\u001b[1;32m      9\u001b[0m \u001b[38;5;28;01mdef\u001b[39;00m\u001b[38;5;250m \u001b[39m\u001b[38;5;21mload\u001b[39m(\u001b[38;5;241m*\u001b[39m\u001b[38;5;241m*\u001b[39moverrides):\n\u001b[0;32m---> 10\u001b[0m     \u001b[38;5;28;01mreturn\u001b[39;00m \u001b[43mload_model_from_init_py\u001b[49m\u001b[43m(\u001b[49m\u001b[38;5;18;43m__file__\u001b[39;49m\u001b[43m,\u001b[49m\u001b[43m \u001b[49m\u001b[38;5;241;43m*\u001b[39;49m\u001b[38;5;241;43m*\u001b[39;49m\u001b[43moverrides\u001b[49m\u001b[43m)\u001b[49m\n",
      "File \u001b[0;32m~/bnp/coach/virtualenv/lib/python3.9/site-packages/spacy/util.py:682\u001b[0m, in \u001b[0;36mload_model_from_init_py\u001b[0;34m(init_file, vocab, disable, enable, exclude, config)\u001b[0m\n\u001b[1;32m    680\u001b[0m \u001b[38;5;28;01mif\u001b[39;00m \u001b[38;5;129;01mnot\u001b[39;00m model_path\u001b[38;5;241m.\u001b[39mexists():\n\u001b[1;32m    681\u001b[0m     \u001b[38;5;28;01mraise\u001b[39;00m \u001b[38;5;167;01mIOError\u001b[39;00m(Errors\u001b[38;5;241m.\u001b[39mE052\u001b[38;5;241m.\u001b[39mformat(path\u001b[38;5;241m=\u001b[39mdata_path))\n\u001b[0;32m--> 682\u001b[0m \u001b[38;5;28;01mreturn\u001b[39;00m \u001b[43mload_model_from_path\u001b[49m\u001b[43m(\u001b[49m\n\u001b[1;32m    683\u001b[0m \u001b[43m    \u001b[49m\u001b[43mdata_path\u001b[49m\u001b[43m,\u001b[49m\n\u001b[1;32m    684\u001b[0m \u001b[43m    \u001b[49m\u001b[43mvocab\u001b[49m\u001b[38;5;241;43m=\u001b[39;49m\u001b[43mvocab\u001b[49m\u001b[43m,\u001b[49m\n\u001b[1;32m    685\u001b[0m \u001b[43m    \u001b[49m\u001b[43mmeta\u001b[49m\u001b[38;5;241;43m=\u001b[39;49m\u001b[43mmeta\u001b[49m\u001b[43m,\u001b[49m\n\u001b[1;32m    686\u001b[0m \u001b[43m    \u001b[49m\u001b[43mdisable\u001b[49m\u001b[38;5;241;43m=\u001b[39;49m\u001b[43mdisable\u001b[49m\u001b[43m,\u001b[49m\n\u001b[1;32m    687\u001b[0m \u001b[43m    \u001b[49m\u001b[43menable\u001b[49m\u001b[38;5;241;43m=\u001b[39;49m\u001b[43menable\u001b[49m\u001b[43m,\u001b[49m\n\u001b[1;32m    688\u001b[0m \u001b[43m    \u001b[49m\u001b[43mexclude\u001b[49m\u001b[38;5;241;43m=\u001b[39;49m\u001b[43mexclude\u001b[49m\u001b[43m,\u001b[49m\n\u001b[1;32m    689\u001b[0m \u001b[43m    \u001b[49m\u001b[43mconfig\u001b[49m\u001b[38;5;241;43m=\u001b[39;49m\u001b[43mconfig\u001b[49m\u001b[43m,\u001b[49m\n\u001b[1;32m    690\u001b[0m \u001b[43m\u001b[49m\u001b[43m)\u001b[49m\n",
      "File \u001b[0;32m~/bnp/coach/virtualenv/lib/python3.9/site-packages/spacy/util.py:539\u001b[0m, in \u001b[0;36mload_model_from_path\u001b[0;34m(model_path, meta, vocab, disable, enable, exclude, config)\u001b[0m\n\u001b[1;32m    537\u001b[0m overrides \u001b[38;5;241m=\u001b[39m dict_to_dot(config, for_overrides\u001b[38;5;241m=\u001b[39m\u001b[38;5;28;01mTrue\u001b[39;00m)\n\u001b[1;32m    538\u001b[0m config \u001b[38;5;241m=\u001b[39m load_config(config_path, overrides\u001b[38;5;241m=\u001b[39moverrides)\n\u001b[0;32m--> 539\u001b[0m nlp \u001b[38;5;241m=\u001b[39m \u001b[43mload_model_from_config\u001b[49m\u001b[43m(\u001b[49m\n\u001b[1;32m    540\u001b[0m \u001b[43m    \u001b[49m\u001b[43mconfig\u001b[49m\u001b[43m,\u001b[49m\n\u001b[1;32m    541\u001b[0m \u001b[43m    \u001b[49m\u001b[43mvocab\u001b[49m\u001b[38;5;241;43m=\u001b[39;49m\u001b[43mvocab\u001b[49m\u001b[43m,\u001b[49m\n\u001b[1;32m    542\u001b[0m \u001b[43m    \u001b[49m\u001b[43mdisable\u001b[49m\u001b[38;5;241;43m=\u001b[39;49m\u001b[43mdisable\u001b[49m\u001b[43m,\u001b[49m\n\u001b[1;32m    543\u001b[0m \u001b[43m    \u001b[49m\u001b[43menable\u001b[49m\u001b[38;5;241;43m=\u001b[39;49m\u001b[43menable\u001b[49m\u001b[43m,\u001b[49m\n\u001b[1;32m    544\u001b[0m \u001b[43m    \u001b[49m\u001b[43mexclude\u001b[49m\u001b[38;5;241;43m=\u001b[39;49m\u001b[43mexclude\u001b[49m\u001b[43m,\u001b[49m\n\u001b[1;32m    545\u001b[0m \u001b[43m    \u001b[49m\u001b[43mmeta\u001b[49m\u001b[38;5;241;43m=\u001b[39;49m\u001b[43mmeta\u001b[49m\u001b[43m,\u001b[49m\n\u001b[1;32m    546\u001b[0m \u001b[43m\u001b[49m\u001b[43m)\u001b[49m\n\u001b[1;32m    547\u001b[0m \u001b[38;5;28;01mreturn\u001b[39;00m nlp\u001b[38;5;241m.\u001b[39mfrom_disk(model_path, exclude\u001b[38;5;241m=\u001b[39mexclude, overrides\u001b[38;5;241m=\u001b[39moverrides)\n",
      "File \u001b[0;32m~/bnp/coach/virtualenv/lib/python3.9/site-packages/spacy/util.py:587\u001b[0m, in \u001b[0;36mload_model_from_config\u001b[0;34m(config, meta, vocab, disable, enable, exclude, auto_fill, validate)\u001b[0m\n\u001b[1;32m    584\u001b[0m \u001b[38;5;66;03m# This will automatically handle all codes registered via the languages\u001b[39;00m\n\u001b[1;32m    585\u001b[0m \u001b[38;5;66;03m# registry, including custom subclasses provided via entry points\u001b[39;00m\n\u001b[1;32m    586\u001b[0m lang_cls \u001b[38;5;241m=\u001b[39m get_lang_class(nlp_config[\u001b[38;5;124m\"\u001b[39m\u001b[38;5;124mlang\u001b[39m\u001b[38;5;124m\"\u001b[39m])\n\u001b[0;32m--> 587\u001b[0m nlp \u001b[38;5;241m=\u001b[39m \u001b[43mlang_cls\u001b[49m\u001b[38;5;241;43m.\u001b[39;49m\u001b[43mfrom_config\u001b[49m\u001b[43m(\u001b[49m\n\u001b[1;32m    588\u001b[0m \u001b[43m    \u001b[49m\u001b[43mconfig\u001b[49m\u001b[43m,\u001b[49m\n\u001b[1;32m    589\u001b[0m \u001b[43m    \u001b[49m\u001b[43mvocab\u001b[49m\u001b[38;5;241;43m=\u001b[39;49m\u001b[43mvocab\u001b[49m\u001b[43m,\u001b[49m\n\u001b[1;32m    590\u001b[0m \u001b[43m    \u001b[49m\u001b[43mdisable\u001b[49m\u001b[38;5;241;43m=\u001b[39;49m\u001b[43mdisable\u001b[49m\u001b[43m,\u001b[49m\n\u001b[1;32m    591\u001b[0m \u001b[43m    \u001b[49m\u001b[43menable\u001b[49m\u001b[38;5;241;43m=\u001b[39;49m\u001b[43menable\u001b[49m\u001b[43m,\u001b[49m\n\u001b[1;32m    592\u001b[0m \u001b[43m    \u001b[49m\u001b[43mexclude\u001b[49m\u001b[38;5;241;43m=\u001b[39;49m\u001b[43mexclude\u001b[49m\u001b[43m,\u001b[49m\n\u001b[1;32m    593\u001b[0m \u001b[43m    \u001b[49m\u001b[43mauto_fill\u001b[49m\u001b[38;5;241;43m=\u001b[39;49m\u001b[43mauto_fill\u001b[49m\u001b[43m,\u001b[49m\n\u001b[1;32m    594\u001b[0m \u001b[43m    \u001b[49m\u001b[43mvalidate\u001b[49m\u001b[38;5;241;43m=\u001b[39;49m\u001b[43mvalidate\u001b[49m\u001b[43m,\u001b[49m\n\u001b[1;32m    595\u001b[0m \u001b[43m    \u001b[49m\u001b[43mmeta\u001b[49m\u001b[38;5;241;43m=\u001b[39;49m\u001b[43mmeta\u001b[49m\u001b[43m,\u001b[49m\n\u001b[1;32m    596\u001b[0m \u001b[43m\u001b[49m\u001b[43m)\u001b[49m\n\u001b[1;32m    597\u001b[0m \u001b[38;5;28;01mreturn\u001b[39;00m nlp\n",
      "File \u001b[0;32m~/bnp/coach/virtualenv/lib/python3.9/site-packages/spacy/language.py:1892\u001b[0m, in \u001b[0;36mLanguage.from_config\u001b[0;34m(cls, config, vocab, disable, enable, exclude, meta, auto_fill, validate)\u001b[0m\n\u001b[1;32m   1889\u001b[0m     factory \u001b[38;5;241m=\u001b[39m pipe_cfg\u001b[38;5;241m.\u001b[39mpop(\u001b[38;5;124m\"\u001b[39m\u001b[38;5;124mfactory\u001b[39m\u001b[38;5;124m\"\u001b[39m)\n\u001b[1;32m   1890\u001b[0m     \u001b[38;5;66;03m# The pipe name (key in the config) here is the unique name\u001b[39;00m\n\u001b[1;32m   1891\u001b[0m     \u001b[38;5;66;03m# of the component, not necessarily the factory\u001b[39;00m\n\u001b[0;32m-> 1892\u001b[0m     \u001b[43mnlp\u001b[49m\u001b[38;5;241;43m.\u001b[39;49m\u001b[43madd_pipe\u001b[49m\u001b[43m(\u001b[49m\n\u001b[1;32m   1893\u001b[0m \u001b[43m        \u001b[49m\u001b[43mfactory\u001b[49m\u001b[43m,\u001b[49m\n\u001b[1;32m   1894\u001b[0m \u001b[43m        \u001b[49m\u001b[43mname\u001b[49m\u001b[38;5;241;43m=\u001b[39;49m\u001b[43mpipe_name\u001b[49m\u001b[43m,\u001b[49m\n\u001b[1;32m   1895\u001b[0m \u001b[43m        \u001b[49m\u001b[43mconfig\u001b[49m\u001b[38;5;241;43m=\u001b[39;49m\u001b[43mpipe_cfg\u001b[49m\u001b[43m,\u001b[49m\n\u001b[1;32m   1896\u001b[0m \u001b[43m        \u001b[49m\u001b[43mvalidate\u001b[49m\u001b[38;5;241;43m=\u001b[39;49m\u001b[43mvalidate\u001b[49m\u001b[43m,\u001b[49m\n\u001b[1;32m   1897\u001b[0m \u001b[43m        \u001b[49m\u001b[43mraw_config\u001b[49m\u001b[38;5;241;43m=\u001b[39;49m\u001b[43mraw_config\u001b[49m\u001b[43m,\u001b[49m\n\u001b[1;32m   1898\u001b[0m \u001b[43m    \u001b[49m\u001b[43m)\u001b[49m\n\u001b[1;32m   1899\u001b[0m \u001b[38;5;28;01melse\u001b[39;00m:\n\u001b[1;32m   1900\u001b[0m     \u001b[38;5;28;01massert\u001b[39;00m \u001b[38;5;124m\"\u001b[39m\u001b[38;5;124msource\u001b[39m\u001b[38;5;124m\"\u001b[39m \u001b[38;5;129;01min\u001b[39;00m pipe_cfg\n",
      "File \u001b[0;32m~/bnp/coach/virtualenv/lib/python3.9/site-packages/spacy/language.py:824\u001b[0m, in \u001b[0;36mLanguage.add_pipe\u001b[0;34m(self, factory_name, name, before, after, first, last, source, config, raw_config, validate)\u001b[0m\n\u001b[1;32m    820\u001b[0m     pipe_component, factory_name \u001b[38;5;241m=\u001b[39m \u001b[38;5;28mself\u001b[39m\u001b[38;5;241m.\u001b[39mcreate_pipe_from_source(\n\u001b[1;32m    821\u001b[0m         factory_name, source, name\u001b[38;5;241m=\u001b[39mname\n\u001b[1;32m    822\u001b[0m     )\n\u001b[1;32m    823\u001b[0m \u001b[38;5;28;01melse\u001b[39;00m:\n\u001b[0;32m--> 824\u001b[0m     pipe_component \u001b[38;5;241m=\u001b[39m \u001b[38;5;28;43mself\u001b[39;49m\u001b[38;5;241;43m.\u001b[39;49m\u001b[43mcreate_pipe\u001b[49m\u001b[43m(\u001b[49m\n\u001b[1;32m    825\u001b[0m \u001b[43m        \u001b[49m\u001b[43mfactory_name\u001b[49m\u001b[43m,\u001b[49m\n\u001b[1;32m    826\u001b[0m \u001b[43m        \u001b[49m\u001b[43mname\u001b[49m\u001b[38;5;241;43m=\u001b[39;49m\u001b[43mname\u001b[49m\u001b[43m,\u001b[49m\n\u001b[1;32m    827\u001b[0m \u001b[43m        \u001b[49m\u001b[43mconfig\u001b[49m\u001b[38;5;241;43m=\u001b[39;49m\u001b[43mconfig\u001b[49m\u001b[43m,\u001b[49m\n\u001b[1;32m    828\u001b[0m \u001b[43m        \u001b[49m\u001b[43mraw_config\u001b[49m\u001b[38;5;241;43m=\u001b[39;49m\u001b[43mraw_config\u001b[49m\u001b[43m,\u001b[49m\n\u001b[1;32m    829\u001b[0m \u001b[43m        \u001b[49m\u001b[43mvalidate\u001b[49m\u001b[38;5;241;43m=\u001b[39;49m\u001b[43mvalidate\u001b[49m\u001b[43m,\u001b[49m\n\u001b[1;32m    830\u001b[0m \u001b[43m    \u001b[49m\u001b[43m)\u001b[49m\n\u001b[1;32m    831\u001b[0m pipe_index \u001b[38;5;241m=\u001b[39m \u001b[38;5;28mself\u001b[39m\u001b[38;5;241m.\u001b[39m_get_pipe_index(before, after, first, last)\n\u001b[1;32m    832\u001b[0m \u001b[38;5;28mself\u001b[39m\u001b[38;5;241m.\u001b[39m_pipe_meta[name] \u001b[38;5;241m=\u001b[39m \u001b[38;5;28mself\u001b[39m\u001b[38;5;241m.\u001b[39mget_factory_meta(factory_name)\n",
      "File \u001b[0;32m~/bnp/coach/virtualenv/lib/python3.9/site-packages/spacy/language.py:693\u001b[0m, in \u001b[0;36mLanguage.create_pipe\u001b[0;34m(self, factory_name, name, config, raw_config, validate)\u001b[0m\n\u001b[1;32m    685\u001b[0m \u001b[38;5;28;01mif\u001b[39;00m \u001b[38;5;129;01mnot\u001b[39;00m \u001b[38;5;28mself\u001b[39m\u001b[38;5;241m.\u001b[39mhas_factory(factory_name):\n\u001b[1;32m    686\u001b[0m     err \u001b[38;5;241m=\u001b[39m Errors\u001b[38;5;241m.\u001b[39mE002\u001b[38;5;241m.\u001b[39mformat(\n\u001b[1;32m    687\u001b[0m         name\u001b[38;5;241m=\u001b[39mfactory_name,\n\u001b[1;32m    688\u001b[0m         opts\u001b[38;5;241m=\u001b[39m\u001b[38;5;124m\"\u001b[39m\u001b[38;5;124m, \u001b[39m\u001b[38;5;124m\"\u001b[39m\u001b[38;5;241m.\u001b[39mjoin(\u001b[38;5;28mself\u001b[39m\u001b[38;5;241m.\u001b[39mfactory_names),\n\u001b[0;32m   (...)\u001b[0m\n\u001b[1;32m    691\u001b[0m         lang_code\u001b[38;5;241m=\u001b[39m\u001b[38;5;28mself\u001b[39m\u001b[38;5;241m.\u001b[39mlang,\n\u001b[1;32m    692\u001b[0m     )\n\u001b[0;32m--> 693\u001b[0m     \u001b[38;5;28;01mraise\u001b[39;00m \u001b[38;5;167;01mValueError\u001b[39;00m(err)\n\u001b[1;32m    694\u001b[0m pipe_meta \u001b[38;5;241m=\u001b[39m \u001b[38;5;28mself\u001b[39m\u001b[38;5;241m.\u001b[39mget_factory_meta(factory_name)\n\u001b[1;32m    695\u001b[0m \u001b[38;5;66;03m# This is unideal, but the alternative would mean you always need to\u001b[39;00m\n\u001b[1;32m    696\u001b[0m \u001b[38;5;66;03m# specify the full config settings, which is not really viable.\u001b[39;00m\n",
      "\u001b[0;31mValueError\u001b[0m: [E002] Can't find factory for 'curated_transformer' for language French (fr). This usually happens when spaCy calls `nlp.create_pipe` with a custom component name that's not registered on the current language class. If you're using a custom component, make sure you've added the decorator `@Language.component` (for function components) or `@Language.factory` (for class components).\n\nAvailable factories: attribute_ruler, tok2vec, merge_noun_chunks, merge_entities, merge_subtokens, token_splitter, doc_cleaner, parser, beam_parser, lemmatizer, trainable_lemmatizer, entity_linker, entity_ruler, tagger, morphologizer, ner, beam_ner, senter, sentencizer, spancat, spancat_singlelabel, span_finder, future_entity_ruler, span_ruler, textcat, textcat_multilabel, fr.lemmatizer"
     ]
    }
   ],
   "source": [
    "from presidio_analyzer import AnalyzerEngine\n",
    "from presidio_analyzer.nlp_engine import NlpEngineProvider\n",
    "\n",
    "# Create NLP engine based on configuration\n",
    "provider = NlpEngineProvider(nlp_configuration=configuration)\n",
    "nlp_engine = provider.create_engine()\n",
    "\n",
    "# the languages are needed to load country-specific recognizers \n",
    "# for finding phones, passport numbers, etc.\n",
    "analyzer = AnalyzerEngine(nlp_engine=nlp_engine,\n",
    "                          supported_languages=[\"fr\"])"
   ]
  },
  {
   "cell_type": "markdown",
   "id": "8ebb1efd",
   "metadata": {},
   "source": [
    "Let us analyze one example. The data is not processed so it is a bit harder for the algorighm to detect entities"
   ]
  },
  {
   "cell_type": "code",
   "execution_count": null,
   "id": "3732a181",
   "metadata": {},
   "outputs": [
    {
     "name": "stdout",
     "output_type": "stream",
     "text": [
      "Bonjour. Je m'appelle Oleg. Je suis né à Saint-Pétersbourg, en Russie, en 1997. Numéro de téléphone est: 51-85-831-284. Hier, j'ai mangé de la soupe. Envoyez-moi un message à foundation@spkwm.com. Mon IBAN code est : AT483200000012345864.\n",
      "type: EMAIL_ADDRESS, start: 175, end: 195, score: 1.0\n",
      "type: IBAN_CODE, start: 217, end: 237, score: 1.0\n",
      "type: PERSON, start: 22, end: 26, score: 0.85\n",
      "type: LOCATION, start: 41, end: 58, score: 0.85\n",
      "type: LOCATION, start: 63, end: 69, score: 0.85\n",
      "type: LOCATION, start: 217, end: 237, score: 0.85\n",
      "type: PHONE_NUMBER, start: 105, end: 118, score: 0.75\n",
      "type: URL, start: 186, end: 195, score: 0.5\n"
     ]
    }
   ],
   "source": [
    "# example_text = \"Hi. My name is Oleg. I was born in Saint-Petersburg, Russia in 1997. Some random phone number: 51-855-831-2384. Yesterday I ate soup. Send something there helpline@lgbt.foundation. IBAN example AT483200000012345864\"\n",
    "example_text = \"Bonjour. Je m'appelle Oleg. Je suis né à Saint-Pétersbourg, en Russie, en 1997. Numéro de téléphone est: 51-85-831-284. Hier, j'ai mangé de la soupe. Envoyez-moi un message à foundation@spkwm.com. Mon IBAN code est : AT483200000012345864.\"\n",
    "print(example_text)\n",
    "\n",
    "results = analyzer.analyze(text=example_text, language='fr')\n",
    "\n",
    "for res in results:\n",
    "    print(res)"
   ]
  },
  {
   "cell_type": "markdown",
   "id": "503ddd1b",
   "metadata": {},
   "source": [
    "An here is an example of analyzer's output"
   ]
  },
  {
   "cell_type": "markdown",
   "id": "ca8ca5ff",
   "metadata": {},
   "source": [
    "And here is the same text with entities marked and coloured with a random non-black colour"
   ]
  },
  {
   "cell_type": "code",
   "execution_count": null,
   "id": "d651b514",
   "metadata": {},
   "outputs": [],
   "source": [
    "from termcolor import colored\n",
    "import random\n",
    "\n",
    "def rand_col(text):\n",
    "    return colored(text, color=random.choice(['yellow']))    "
   ]
  },
  {
   "cell_type": "code",
   "execution_count": null,
   "id": "d3732c6b",
   "metadata": {
    "scrolled": true
   },
   "outputs": [
    {
     "name": "stdout",
     "output_type": "stream",
     "text": [
      "Bonjour. Je m'appelle \u001b[33mOleg [PERSON]\u001b[0m. Je suis né à \u001b[33mSaint-Pétersbourg [LOCATION]\u001b[0m, en \u001b[33mRussie [LOCATION]\u001b[0m, en 1997. Numéro de téléphone est: \u001b[33m51-85-831-284 [PHONE_NUMBER]\u001b[0m. Hier, j'ai mangé de la soupe. Envoyez-moi un message à \u001b[33mfoundation@spkwm.com [EMAIL_ADDRESS]\u001b[0m\u001b[33mspkwm.com [URL collision]\u001b[0m. Mon IBAN code est : \u001b[33mAT483200000012345864 [IBAN_CODE]\u001b[0m\u001b[33mAT483200000012345864 [LOCATION collision]\u001b[0m.\n"
     ]
    }
   ],
   "source": [
    "from copy import deepcopy\n",
    "results_sorted = deepcopy(results)\n",
    "results_sorted.sort(key=lambda x: x.start)\n",
    "\n",
    "current_idx = 0\n",
    "for current_entity in results_sorted:\n",
    "#     print(rand_col(current_idx), end='\\n')\n",
    "    if current_idx <= current_entity.start:\n",
    "        print(example_text[current_idx: current_entity.start], end='')\n",
    "        print(rand_col(example_text[current_entity.start: current_entity.end] + f' [{current_entity.entity_type}]'), end='')\n",
    "    else:\n",
    "        print(rand_col(example_text[current_entity.start: current_entity.end] + f' [{current_entity.entity_type} collision]'), end='')\n",
    "    \n",
    "    current_idx = current_entity.end\n",
    "    \n",
    "print(example_text[current_idx: ])"
   ]
  },
  {
   "cell_type": "code",
   "execution_count": null,
   "id": "0b8c4ad9",
   "metadata": {},
   "outputs": [],
   "source": [
    "issues:\n",
    "    big numbers lost\n",
    "    years lost"
   ]
  },
  {
   "cell_type": "markdown",
   "id": "2e28761d",
   "metadata": {},
   "source": [
    "From the documentation \"As the input text could potentially have overlapping PII entities, there are different anonymization scenarios:\n",
    "No overlap (single PII) - single PII over text entity, uses a given or default anonymizer to anonymize and replace the PII text entity.\n",
    "Full overlap of PIIs - When one text have several PIIs, the PII with the higher score will be taken. Between PIIs with identical scores, the selection\n",
    "will be arbitrary.\n",
    "One PII is contained in another - anonymizer will use the PII with larger text.\n",
    "Partial intersection - both will be returned concatenated.\"  \n",
    "\n",
    "Moreover, custom recognisers (https://microsoft.github.io/presidio/analyzer/adding_recognizers/) for your particular patterns may be added. These may be used, for examle, for finding urls, non-common symbol sequences, specific phrases.\n",
    "\n",
    "A decision for each entity may be explained. Details on the link https://microsoft.github.io/presidio/analyzer/decision_process/ "
   ]
  },
  {
   "cell_type": "code",
   "execution_count": null,
   "id": "d746391e",
   "metadata": {},
   "outputs": [
    {
     "ename": "NameError",
     "evalue": "name 'sdt' is not defined",
     "output_type": "error",
     "traceback": [
      "\u001b[0;31m---------------------------------------------------------------------------\u001b[0m",
      "\u001b[0;31mNameError\u001b[0m                                 Traceback (most recent call last)",
      "Cell \u001b[0;32mIn[8], line 1\u001b[0m\n\u001b[0;32m----> 1\u001b[0m \u001b[43msdt\u001b[49m\n",
      "\u001b[0;31mNameError\u001b[0m: name 'sdt' is not defined"
     ]
    }
   ],
   "source": [
    "sdt"
   ]
  },
  {
   "cell_type": "markdown",
   "id": "39dfa197",
   "metadata": {},
   "source": [
    "# Anonymizer"
   ]
  },
  {
   "cell_type": "markdown",
   "id": "f221a7d3",
   "metadata": {},
   "source": [
    "Anonymizer is the second pillar of the presidio library."
   ]
  },
  {
   "cell_type": "markdown",
   "id": "3cfdec6a",
   "metadata": {},
   "source": [
    "It also has an Engine"
   ]
  },
  {
   "cell_type": "code",
   "execution_count": null,
   "id": "e19d3d4f",
   "metadata": {},
   "outputs": [],
   "source": [
    "from presidio_anonymizer import AnonymizerEngine\n",
    "\n",
    "anonymizer = AnonymizerEngine()"
   ]
  },
  {
   "cell_type": "code",
   "execution_count": null,
   "id": "5653b738",
   "metadata": {
    "scrolled": true
   },
   "outputs": [
    {
     "name": "stdout",
     "output_type": "stream",
     "text": [
      "Bonjour. Je m'appelle <PERSON>. Je suis né à <LOCATION>, en <LOCATION>, en 1997. Numéro de téléphone est: <PHONE_NUMBER>. Hier, j'ai mangé de la soupe. Envoyez-moi un message à <EMAIL_ADDRESS>. Mon IBAN code est : <IBAN_CODE>.\n"
     ]
    }
   ],
   "source": [
    "anonymized_text = anonymizer.anonymize(text=example_text, analyzer_results=results).text\n",
    "\n",
    "print(anonymized_text)"
   ]
  },
  {
   "cell_type": "markdown",
   "id": "f0bc8521",
   "metadata": {},
   "source": [
    "We can see that by default the entities are replaced with their entity name. Quite well. But can we make it more flexible? Of course! presidio has operators for this https://microsoft.github.io/presidio/anonymizer/"
   ]
  },
  {
   "cell_type": "code",
   "execution_count": null,
   "id": "97a88077",
   "metadata": {
    "scrolled": true
   },
   "outputs": [
    {
     "name": "stdout",
     "output_type": "stream",
     "text": [
      "Bonjour. Je m'appelle Nom. Je suis né à Location, en Location, en 1997. Numéro de téléphone est: 466999983. Hier, j'ai mangé de la soupe. Envoyez-moi un message à myaccount@mymail.com. Mon IBAN code est : BE68539007547034.\n"
     ]
    }
   ],
   "source": [
    "from presidio_anonymizer.entities.engine import OperatorConfig\n",
    "\n",
    "operators={\"PERSON\": OperatorConfig(operator_name=\"replace\", \n",
    "                                    params={\"new_value\": \"Nom\"}),\n",
    "           \"LOCATION\": OperatorConfig(operator_name=\"replace\", \n",
    "                                    params={\"new_value\": \"Location\"}),\n",
    "           \"IBAN_CODE\": OperatorConfig(operator_name=\"replace\", \n",
    "                                    params={\"new_value\": \"BE68539007547034\"}),\n",
    "           \"PHONE_NUMBER\": OperatorConfig(operator_name=\"replace\", \n",
    "                                    params={\"new_value\": \"466999983\"}),\n",
    "           \"EMAIL_ADDRESS\": OperatorConfig(operator_name=\"replace\", \n",
    "                                    params={\"new_value\": \"myaccount@mymail.com\"}),\n",
    "           \"URL\": OperatorConfig(operator_name=\"replace\", \n",
    "                                    params={\"new_value\": \"www.mywebsite.com\"}),\n",
    "           \"DEFAULT\": OperatorConfig(operator_name=\"replace\", \n",
    "                                    params={\"new_value\": \"XXX\"})}\n",
    "\n",
    "anonymized_text = anonymizer.anonymize(text=example_text, \n",
    "                                       analyzer_results=results,\n",
    "                                       operators=operators).text\n",
    "\n",
    "print(anonymized_text)"
   ]
  },
  {
   "cell_type": "markdown",
   "id": "6f5be4ec",
   "metadata": {},
   "source": [
    "We have masked locations, replaced persons with a pre-defined value, and removed ('redact' key value) all other entities found. In addition to that, you may use hash, encrypt, and custom operator names. The latter is the most valuable, from my perspective. With custom operator we can, for examle, apply custom (surprisingly) logic to the original entity, select randomly from a set of pre-defined values, or even generate a new anonymized value from scratch!"
   ]
  },
  {
   "cell_type": "code",
   "execution_count": null,
   "id": "fb631392",
   "metadata": {
    "scrolled": true
   },
   "outputs": [
    {
     "name": "stdout",
     "output_type": "stream",
     "text": [
      "Hi. My name is Paul. I was born in grubsreteP-tniaS, aissuR in 7991. Some random phone number: 51-4832-138-558. yadretseY I ate soup. Send something there noitadnuof.tbgl@enilpleh. IBAN example 468543210000002384TA\n"
     ]
    }
   ],
   "source": [
    "operators={\"PERSON\": OperatorConfig(operator_name=\"custom\", \n",
    "                                    params={\"lambda\": lambda x: random.choice(['Neo', 'Paul'])}),\n",
    "           \"DEFAULT\": OperatorConfig(operator_name=\"custom\", params={\"lambda\": lambda x: x[::-1]})}\n",
    "\n",
    "anonymized_text = anonymizer.anonymize(text=example_text, \n",
    "                                       analyzer_results=results,\n",
    "                                       operators=operators).text\n",
    "\n",
    "print(anonymized_text)"
   ]
  },
  {
   "cell_type": "markdown",
   "id": "24c34946",
   "metadata": {},
   "source": [
    "If you launch the cell for several times, you may notice that sometimes PERSON entities will be replaced with Neo and others with Paul. Other entities will be reversed"
   ]
  },
  {
   "cell_type": "markdown",
   "id": "5035e855",
   "metadata": {},
   "source": [
    "# Faker"
   ]
  },
  {
   "cell_type": "markdown",
   "id": "3a0f170a",
   "metadata": {},
   "source": [
    "Last but not least component of the pipeline is Faker https://github.com/joke2k/faker - library for generating fake data. Here is a basic example from the library"
   ]
  },
  {
   "cell_type": "code",
   "execution_count": null,
   "id": "50d41d44",
   "metadata": {},
   "outputs": [
    {
     "name": "stdout",
     "output_type": "stream",
     "text": [
      "random name: Jose Bailey\n",
      "random address: 546 Brown Stravenue Apt. 463\n",
      "West Stephenburgh, KY 12451\n",
      "random phone number: +1-092-602-8214x7410\n"
     ]
    }
   ],
   "source": [
    "from faker import Faker\n",
    "fake = Faker()\n",
    "\n",
    "print('random name:', fake.name())\n",
    "print('random address:', fake.address())\n",
    "print('random phone number:', fake.phone_number())"
   ]
  },
  {
   "cell_type": "markdown",
   "id": "a3bc1dcd",
   "metadata": {},
   "source": [
    "Generally, faker operates with large collections of local names, surnames, prefixes, etc. But simple interface and variety do their best to use this library instead of your own-defined values. Interestingly, we may limit the locales from which we generate our entities"
   ]
  },
  {
   "cell_type": "code",
   "execution_count": null,
   "id": "7878114f",
   "metadata": {
    "scrolled": true
   },
   "outputs": [
    {
     "name": "stdout",
     "output_type": "stream",
     "text": [
      "藤井 知実\n",
      "坂本 陽一\n",
      "岡本 くみ子\n",
      "橋本 幹\n",
      "木村 明美\n"
     ]
    }
   ],
   "source": [
    "fake = Faker(locale=['jp_JP'])\n",
    "\n",
    "for i in range(5):\n",
    "    print(fake.name())"
   ]
  },
  {
   "cell_type": "code",
   "execution_count": null,
   "id": "d263c267",
   "metadata": {
    "scrolled": true
   },
   "outputs": [
    {
     "name": "stdout",
     "output_type": "stream",
     "text": [
      "Leah Cook\n",
      "Renee Rollins\n",
      "Carla Wright\n",
      "Stewart Knowles\n",
      "Thierry-Bernard Valette\n",
      "Owen Hall\n",
      "Jasmine Austin\n",
      "Mohamed Ward\n",
      "Gail Clark-Osborne\n",
      "Heather Cameron\n"
     ]
    }
   ],
   "source": [
    "fake = Faker(locale=['en_US', 'en_GB', 'en_CA', 'fr_FR'])\n",
    "\n",
    "for i in range(10):\n",
    "    print(fake.name())"
   ]
  },
  {
   "cell_type": "markdown",
   "id": "06a66f24",
   "metadata": {},
   "source": [
    "To use faker during the anonymisation step, we need to create operators with lambda functions"
   ]
  },
  {
   "cell_type": "code",
   "execution_count": null,
   "id": "f13d4108",
   "metadata": {},
   "outputs": [],
   "source": [
    "fake_operators = {\n",
    "    \"PERSON\": OperatorConfig(\"custom\", {\"lambda\": lambda x: fake.name()}),\n",
    "    \"PHONE_NUMBER\": OperatorConfig(\"custom\", {\"lambda\": lambda x: fake.phone_number()}),\n",
    "    \"EMAIL_ADDRESS\": OperatorConfig(\"custom\", {\"lambda\": lambda x: fake.email()}),\n",
    "    \"LOCATION\": OperatorConfig(\"replace\", {\"new_value\": \"USA\"}),\n",
    "    \"DEFAULT\": OperatorConfig(operator_name=\"mask\", \n",
    "                              params={'chars_to_mask': 10, \n",
    "                                      'masking_char': '*',\n",
    "                                      'from_end': False}),\n",
    "}"
   ]
  },
  {
   "cell_type": "code",
   "execution_count": null,
   "id": "648e9e26",
   "metadata": {
    "scrolled": true
   },
   "outputs": [
    {
     "name": "stdout",
     "output_type": "stream",
     "text": [
      "Hi. My name is Joshua Smith. I was born in USA, USA in ****. Some random phone number: 51-(571) 314-9216. ********* I ate soup. Send something there williammartinez@brown.org. IBAN example **********0012345864\n"
     ]
    }
   ],
   "source": [
    "anonymized_text = anonymizer.anonymize(text=example_text,\n",
    "                                       analyzer_results=results,\n",
    "                                       operators=fake_operators\n",
    "                                       ).text\n",
    "print(anonymized_text)"
   ]
  },
  {
   "cell_type": "markdown",
   "id": "236931ed",
   "metadata": {},
   "source": [
    "And that's it! The tool works quite well out of the box and may be finalised using custom custom recognisers (https://microsoft.github.io/presidio/analyzer/adding_recognizers/) and via analysing the decision process https://microsoft.github.io/presidio/analyzer/decision_process/."
   ]
  },
  {
   "cell_type": "markdown",
   "id": "da9426a8",
   "metadata": {},
   "source": [
    "# Final pipeline and example"
   ]
  },
  {
   "cell_type": "code",
   "execution_count": null,
   "id": "83e37b50",
   "metadata": {},
   "outputs": [],
   "source": [
    "import pandas as pd\n",
    "\n",
    "from presidio_analyzer.nlp_engine import NlpEngineProvider\n",
    "\n",
    "from presidio_anonymizer import AnonymizerEngine\n",
    "from presidio_anonymizer.entities.engine import OperatorConfig\n",
    "\n",
    "from faker import Faker\n",
    "\n",
    "\n",
    "# Create configuration containing engine name and models\n",
    "configuration = {\n",
    "    \"nlp_engine_name\": \"spacy\",\n",
    "    \"models\": [{\"lang_code\": \"en\", \"model_name\": \"en_core_web_md\"}],\n",
    "}\n",
    "\n",
    "# Create NLP engine based on configuration\n",
    "provider = NlpEngineProvider(nlp_configuration=configuration)\n",
    "nlp_engine = provider.create_engine()\n",
    "\n",
    "fake = Faker(locale=['en_US', 'en_GB', 'en_CA', 'fr_FR'])\n",
    "fake_operators = {\n",
    "    \"PERSON\": OperatorConfig(\"custom\", {\"lambda\": lambda x: fake.name()}),\n",
    "    \"PHONE_NUMBER\": OperatorConfig(\"custom\", {\"lambda\": lambda x: fake.phone_number()}),\n",
    "    \"EMAIL_ADDRESS\": OperatorConfig(\"custom\", {\"lambda\": lambda x: fake.email()}),\n",
    "    \"LOCATION\": OperatorConfig(\"replace\", {\"new_value\": \"USA\"}),\n",
    "    \"DEFAULT\": OperatorConfig(operator_name=\"replace\"),\n",
    "}\n",
    "\n",
    "# Set up the engines\n",
    "analyzer = AnalyzerEngine(nlp_engine=nlp_engine,\n",
    "                          supported_languages=[\"en\"])\n",
    "anonymizer = AnonymizerEngine()\n",
    "\n",
    "# broadcast the engines to the cluster nodes\n",
    "# uncomment this if spark is used\n",
    "# broadcasted_analyzer = sc.broadcast(analyzer)\n",
    "# broadcasted_anonymizer = sc.broadcast(anonymizer)\n",
    "\n",
    "\n",
    "def anonymize_text(text: str) -> str:\n",
    "    # uncomment this if spark is used\n",
    "#     analyzer = broadcasted_analyzer.value\n",
    "#     anonymizer = broadcasted_anonymizer.value\n",
    "\n",
    "    # Call analyzer to get results\n",
    "    results = analyzer.analyze(text=text,\n",
    "                               language='en')\n",
    "\n",
    "    # Analyzer results are passed to the AnonymizerEngine for anonymization\n",
    "    anonymized_text = anonymizer.anonymize(text=text,\n",
    "                                           analyzer_results=results,\n",
    "                                           operators=fake_operators\n",
    "                                           )\n",
    "\n",
    "    return anonymized_text.text\n",
    "\n",
    "\n",
    "def anonymize_series(s: pd.Series) -> pd.Series:\n",
    "    return s.apply(anonymize_text)"
   ]
  },
  {
   "cell_type": "markdown",
   "id": "6716105e",
   "metadata": {},
   "source": [
    "It is obvious that we cannot use the data from the project. Therefore, I have tried to find a dataset full of personal information. Hillary Clinton email work quite well for this purpose.\n",
    "\n",
    "https://www.kaggle.com/kaggle/hillary-clinton-emails"
   ]
  },
  {
   "cell_type": "code",
   "execution_count": null,
   "id": "368e7aaf",
   "metadata": {
    "scrolled": false
   },
   "outputs": [
    {
     "data": {
      "text/html": [
       "<div>\n",
       "<style scoped>\n",
       "    .dataframe tbody tr th:only-of-type {\n",
       "        vertical-align: middle;\n",
       "    }\n",
       "\n",
       "    .dataframe tbody tr th {\n",
       "        vertical-align: top;\n",
       "    }\n",
       "\n",
       "    .dataframe thead th {\n",
       "        text-align: right;\n",
       "    }\n",
       "</style>\n",
       "<table border=\"1\" class=\"dataframe\">\n",
       "  <thead>\n",
       "    <tr style=\"text-align: right;\">\n",
       "      <th></th>\n",
       "      <th>Id</th>\n",
       "      <th>DocNumber</th>\n",
       "      <th>MetadataSubject</th>\n",
       "      <th>MetadataTo</th>\n",
       "      <th>MetadataFrom</th>\n",
       "      <th>SenderPersonId</th>\n",
       "      <th>MetadataDateSent</th>\n",
       "      <th>MetadataDateReleased</th>\n",
       "      <th>MetadataPdfLink</th>\n",
       "      <th>MetadataCaseNumber</th>\n",
       "      <th>...</th>\n",
       "      <th>ExtractedTo</th>\n",
       "      <th>ExtractedFrom</th>\n",
       "      <th>ExtractedCc</th>\n",
       "      <th>ExtractedDateSent</th>\n",
       "      <th>ExtractedCaseNumber</th>\n",
       "      <th>ExtractedDocNumber</th>\n",
       "      <th>ExtractedDateReleased</th>\n",
       "      <th>ExtractedReleaseInPartOrFull</th>\n",
       "      <th>ExtractedBodyText</th>\n",
       "      <th>RawText</th>\n",
       "    </tr>\n",
       "  </thead>\n",
       "  <tbody>\n",
       "    <tr>\n",
       "      <th>0</th>\n",
       "      <td>1</td>\n",
       "      <td>C05739545</td>\n",
       "      <td>WOW</td>\n",
       "      <td>H</td>\n",
       "      <td>Sullivan, Jacob J</td>\n",
       "      <td>87.0</td>\n",
       "      <td>2012-09-12T04:00:00+00:00</td>\n",
       "      <td>2015-05-22T04:00:00+00:00</td>\n",
       "      <td>DOCUMENTS/HRC_Email_1_296/HRCH2/DOC_0C05739545...</td>\n",
       "      <td>F-2015-04841</td>\n",
       "      <td>...</td>\n",
       "      <td>NaN</td>\n",
       "      <td>Sullivan, Jacob J &lt;Sullivan11@state.gov&gt;</td>\n",
       "      <td>NaN</td>\n",
       "      <td>Wednesday, September 12, 2012 10:16 AM</td>\n",
       "      <td>F-2015-04841</td>\n",
       "      <td>C05739545</td>\n",
       "      <td>05/13/2015</td>\n",
       "      <td>RELEASE IN FULL</td>\n",
       "      <td>NaN</td>\n",
       "      <td>UNCLASSIFIED\\nU.S. Department of State\\nCase N...</td>\n",
       "    </tr>\n",
       "    <tr>\n",
       "      <th>1</th>\n",
       "      <td>2</td>\n",
       "      <td>C05739546</td>\n",
       "      <td>H: LATEST: HOW SYRIA IS AIDING QADDAFI AND MOR...</td>\n",
       "      <td>H</td>\n",
       "      <td>NaN</td>\n",
       "      <td>NaN</td>\n",
       "      <td>2011-03-03T05:00:00+00:00</td>\n",
       "      <td>2015-05-22T04:00:00+00:00</td>\n",
       "      <td>DOCUMENTS/HRC_Email_1_296/HRCH1/DOC_0C05739546...</td>\n",
       "      <td>F-2015-04841</td>\n",
       "      <td>...</td>\n",
       "      <td>NaN</td>\n",
       "      <td>NaN</td>\n",
       "      <td>NaN</td>\n",
       "      <td>NaN</td>\n",
       "      <td>F-2015-04841</td>\n",
       "      <td>C05739546</td>\n",
       "      <td>05/13/2015</td>\n",
       "      <td>RELEASE IN PART</td>\n",
       "      <td>B6\\nThursday, March 3, 2011 9:45 PM\\nH: Latest...</td>\n",
       "      <td>UNCLASSIFIED\\nU.S. Department of State\\nCase N...</td>\n",
       "    </tr>\n",
       "    <tr>\n",
       "      <th>2</th>\n",
       "      <td>3</td>\n",
       "      <td>C05739547</td>\n",
       "      <td>CHRIS STEVENS</td>\n",
       "      <td>;H</td>\n",
       "      <td>Mills, Cheryl D</td>\n",
       "      <td>32.0</td>\n",
       "      <td>2012-09-12T04:00:00+00:00</td>\n",
       "      <td>2015-05-22T04:00:00+00:00</td>\n",
       "      <td>DOCUMENTS/HRC_Email_1_296/HRCH2/DOC_0C05739547...</td>\n",
       "      <td>F-2015-04841</td>\n",
       "      <td>...</td>\n",
       "      <td>B6</td>\n",
       "      <td>Mills, Cheryl D &lt;MillsCD@state.gov&gt;</td>\n",
       "      <td>Abedin, Huma</td>\n",
       "      <td>Wednesday, September 12, 2012 11:52 AM</td>\n",
       "      <td>F-2015-04841</td>\n",
       "      <td>C05739547</td>\n",
       "      <td>05/14/2015</td>\n",
       "      <td>RELEASE IN PART</td>\n",
       "      <td>Thx</td>\n",
       "      <td>UNCLASSIFIED\\nU.S. Department of State\\nCase N...</td>\n",
       "    </tr>\n",
       "    <tr>\n",
       "      <th>3</th>\n",
       "      <td>4</td>\n",
       "      <td>C05739550</td>\n",
       "      <td>CAIRO CONDEMNATION - FINAL</td>\n",
       "      <td>H</td>\n",
       "      <td>Mills, Cheryl D</td>\n",
       "      <td>32.0</td>\n",
       "      <td>2012-09-12T04:00:00+00:00</td>\n",
       "      <td>2015-05-22T04:00:00+00:00</td>\n",
       "      <td>DOCUMENTS/HRC_Email_1_296/HRCH2/DOC_0C05739550...</td>\n",
       "      <td>F-2015-04841</td>\n",
       "      <td>...</td>\n",
       "      <td>NaN</td>\n",
       "      <td>Mills, Cheryl D &lt;MillsCD@state.gov&gt;</td>\n",
       "      <td>Mitchell, Andrew B</td>\n",
       "      <td>Wednesday, September 12,2012 12:44 PM</td>\n",
       "      <td>F-2015-04841</td>\n",
       "      <td>C05739550</td>\n",
       "      <td>05/13/2015</td>\n",
       "      <td>RELEASE IN PART</td>\n",
       "      <td>NaN</td>\n",
       "      <td>UNCLASSIFIED\\nU.S. Department of State\\nCase N...</td>\n",
       "    </tr>\n",
       "    <tr>\n",
       "      <th>4</th>\n",
       "      <td>5</td>\n",
       "      <td>C05739554</td>\n",
       "      <td>H: LATEST: HOW SYRIA IS AIDING QADDAFI AND MOR...</td>\n",
       "      <td>Abedin, Huma</td>\n",
       "      <td>H</td>\n",
       "      <td>80.0</td>\n",
       "      <td>2011-03-11T05:00:00+00:00</td>\n",
       "      <td>2015-05-22T04:00:00+00:00</td>\n",
       "      <td>DOCUMENTS/HRC_Email_1_296/HRCH1/DOC_0C05739554...</td>\n",
       "      <td>F-2015-04841</td>\n",
       "      <td>...</td>\n",
       "      <td>NaN</td>\n",
       "      <td>NaN</td>\n",
       "      <td>NaN</td>\n",
       "      <td>NaN</td>\n",
       "      <td>F-2015-04841</td>\n",
       "      <td>C05739554</td>\n",
       "      <td>05/13/2015</td>\n",
       "      <td>RELEASE IN PART</td>\n",
       "      <td>H &lt;hrod17@clintonemail.com&gt;\\nFriday, March 11,...</td>\n",
       "      <td>B6\\nUNCLASSIFIED\\nU.S. Department of State\\nCa...</td>\n",
       "    </tr>\n",
       "  </tbody>\n",
       "</table>\n",
       "<p>5 rows × 22 columns</p>\n",
       "</div>"
      ],
      "text/plain": [
       "   Id  DocNumber                                    MetadataSubject  \\\n",
       "0   1  C05739545                                                WOW   \n",
       "1   2  C05739546  H: LATEST: HOW SYRIA IS AIDING QADDAFI AND MOR...   \n",
       "2   3  C05739547                                      CHRIS STEVENS   \n",
       "3   4  C05739550                         CAIRO CONDEMNATION - FINAL   \n",
       "4   5  C05739554  H: LATEST: HOW SYRIA IS AIDING QADDAFI AND MOR...   \n",
       "\n",
       "     MetadataTo       MetadataFrom  SenderPersonId           MetadataDateSent  \\\n",
       "0             H  Sullivan, Jacob J            87.0  2012-09-12T04:00:00+00:00   \n",
       "1             H                NaN             NaN  2011-03-03T05:00:00+00:00   \n",
       "2            ;H    Mills, Cheryl D            32.0  2012-09-12T04:00:00+00:00   \n",
       "3             H    Mills, Cheryl D            32.0  2012-09-12T04:00:00+00:00   \n",
       "4  Abedin, Huma                  H            80.0  2011-03-11T05:00:00+00:00   \n",
       "\n",
       "        MetadataDateReleased  \\\n",
       "0  2015-05-22T04:00:00+00:00   \n",
       "1  2015-05-22T04:00:00+00:00   \n",
       "2  2015-05-22T04:00:00+00:00   \n",
       "3  2015-05-22T04:00:00+00:00   \n",
       "4  2015-05-22T04:00:00+00:00   \n",
       "\n",
       "                                     MetadataPdfLink MetadataCaseNumber  ...  \\\n",
       "0  DOCUMENTS/HRC_Email_1_296/HRCH2/DOC_0C05739545...       F-2015-04841  ...   \n",
       "1  DOCUMENTS/HRC_Email_1_296/HRCH1/DOC_0C05739546...       F-2015-04841  ...   \n",
       "2  DOCUMENTS/HRC_Email_1_296/HRCH2/DOC_0C05739547...       F-2015-04841  ...   \n",
       "3  DOCUMENTS/HRC_Email_1_296/HRCH2/DOC_0C05739550...       F-2015-04841  ...   \n",
       "4  DOCUMENTS/HRC_Email_1_296/HRCH1/DOC_0C05739554...       F-2015-04841  ...   \n",
       "\n",
       "  ExtractedTo                             ExtractedFrom         ExtractedCc  \\\n",
       "0         NaN  Sullivan, Jacob J <Sullivan11@state.gov>                 NaN   \n",
       "1         NaN                                       NaN                 NaN   \n",
       "2          B6       Mills, Cheryl D <MillsCD@state.gov>        Abedin, Huma   \n",
       "3         NaN       Mills, Cheryl D <MillsCD@state.gov>  Mitchell, Andrew B   \n",
       "4         NaN                                       NaN                 NaN   \n",
       "\n",
       "                        ExtractedDateSent ExtractedCaseNumber  \\\n",
       "0  Wednesday, September 12, 2012 10:16 AM        F-2015-04841   \n",
       "1                                     NaN        F-2015-04841   \n",
       "2  Wednesday, September 12, 2012 11:52 AM        F-2015-04841   \n",
       "3   Wednesday, September 12,2012 12:44 PM        F-2015-04841   \n",
       "4                                     NaN        F-2015-04841   \n",
       "\n",
       "  ExtractedDocNumber ExtractedDateReleased ExtractedReleaseInPartOrFull  \\\n",
       "0          C05739545            05/13/2015              RELEASE IN FULL   \n",
       "1          C05739546            05/13/2015              RELEASE IN PART   \n",
       "2          C05739547            05/14/2015              RELEASE IN PART   \n",
       "3          C05739550            05/13/2015              RELEASE IN PART   \n",
       "4          C05739554            05/13/2015              RELEASE IN PART   \n",
       "\n",
       "                                   ExtractedBodyText  \\\n",
       "0                                                NaN   \n",
       "1  B6\\nThursday, March 3, 2011 9:45 PM\\nH: Latest...   \n",
       "2                                                Thx   \n",
       "3                                                NaN   \n",
       "4  H <hrod17@clintonemail.com>\\nFriday, March 11,...   \n",
       "\n",
       "                                             RawText  \n",
       "0  UNCLASSIFIED\\nU.S. Department of State\\nCase N...  \n",
       "1  UNCLASSIFIED\\nU.S. Department of State\\nCase N...  \n",
       "2  UNCLASSIFIED\\nU.S. Department of State\\nCase N...  \n",
       "3  UNCLASSIFIED\\nU.S. Department of State\\nCase N...  \n",
       "4  B6\\nUNCLASSIFIED\\nU.S. Department of State\\nCa...  \n",
       "\n",
       "[5 rows x 22 columns]"
      ]
     },
     "execution_count": 19,
     "metadata": {},
     "output_type": "execute_result"
    }
   ],
   "source": [
    "df = pd.read_csv('Emails.csv')\n",
    "df.head()"
   ]
  },
  {
   "cell_type": "code",
   "execution_count": null,
   "id": "6a5766de",
   "metadata": {},
   "outputs": [],
   "source": [
    "df = df[~df['ExtractedBodyText'].isna()]"
   ]
  },
  {
   "cell_type": "code",
   "execution_count": null,
   "id": "314b3975",
   "metadata": {
    "scrolled": true
   },
   "outputs": [
    {
     "name": "stdout",
     "output_type": "stream",
     "text": [
      "Wall time: 3min 23s\n"
     ]
    }
   ],
   "source": [
    "%%time\n",
    "df['anonymized_text'] = anonymize_series(df['ExtractedBodyText'])"
   ]
  },
  {
   "cell_type": "code",
   "execution_count": null,
   "id": "a73dc62e",
   "metadata": {
    "scrolled": true
   },
   "outputs": [
    {
     "data": {
      "text/html": [
       "<div>\n",
       "<style scoped>\n",
       "    .dataframe tbody tr th:only-of-type {\n",
       "        vertical-align: middle;\n",
       "    }\n",
       "\n",
       "    .dataframe tbody tr th {\n",
       "        vertical-align: top;\n",
       "    }\n",
       "\n",
       "    .dataframe thead th {\n",
       "        text-align: right;\n",
       "    }\n",
       "</style>\n",
       "<table border=\"1\" class=\"dataframe\">\n",
       "  <thead>\n",
       "    <tr style=\"text-align: right;\">\n",
       "      <th></th>\n",
       "      <th>ExtractedBodyText</th>\n",
       "      <th>anonymized_text</th>\n",
       "    </tr>\n",
       "  </thead>\n",
       "  <tbody>\n",
       "    <tr>\n",
       "      <th>1</th>\n",
       "      <td>B6\\nThursday, March 3, 2011 9:45 PM\\nH: Latest How Syria is aiding Qaddafi and more... Sid\\nhrc memo syria aiding libya 030311.docx; hrc memo syria aiding libya 030311.docx\\nMarch 3, 2011\\nFor: Hillary</td>\n",
       "      <td>&lt;US_DRIVER_LICENSE&gt;\\n&lt;DATE_TIME&gt; &lt;DATE_TIME&gt;\\nH: Latest How USA is aiding USA and more... Sid\\nhrc memo syria aiding USA &lt;US_DRIVER_LICENSE&gt;.docx; &lt;NRP&gt; memo syria aiding USA &lt;DATE_TIME&gt;\\nFor: Anastasie Barbier-Barbe</td>\n",
       "    </tr>\n",
       "    <tr>\n",
       "      <th>2</th>\n",
       "      <td>Thx</td>\n",
       "      <td>Thx</td>\n",
       "    </tr>\n",
       "    <tr>\n",
       "      <th>4</th>\n",
       "      <td>H &lt;hrod17@clintonemail.com&gt;\\nFriday, March 11, 2011 1:36 PM\\nHuma Abedin\\nFw: H: Latest: How Syria is aiding Qaddafi and more... Sid\\nhrc memo syria aiding libya 030311.docx\\nPis print.</td>\n",
       "      <td>H &lt;kthompson@gmail.com&gt;\\n&lt;DATE_TIME&gt; PM\\nMeredith Cortez\\nFw: H: Latest: How USA is aiding USA and more... Sid\\nhrc memo syria aiding USA &lt;US_DRIVER_LICENSE&gt;.docx\\nPis print.</td>\n",
       "    </tr>\n",
       "    <tr>\n",
       "      <th>5</th>\n",
       "      <td>Pis print.\\n-•-...-^\\nH &lt; hrod17@clintonernailcom&gt;\\nWednesday, September 12, 2012 2:11 PM\\n°Russorv@state.gov'\\nFw: Meet The Right-Wing Extremist Behind Anti-fvluslim Film That Sparked Deadly Riots\\nFrom [meat)\\nSent: Wednesday, September 12, 2012 01:00 PM\\nTo: 11\\nSubject: Meet The Right Wing E...</td>\n",
       "      <td>Pis print.\\n-•-...-^\\nH &lt; hrod17@clintonernailcom&gt;\\n&lt;DATE_TIME&gt; PM\\n°robert76@barton.com'\\nFw: Meet The Right-Wing Extremist Behind Anti-fvluslim Film That Sparked Deadly Riots\\nFrom [meat)\\nSent: &lt;DATE_TIME&gt; &lt;DATE_TIME&gt;\\nTo: 11\\nSubject: Meet The Right Wing Extremist Behind Anti-Muslim Film Tha...</td>\n",
       "    </tr>\n",
       "    <tr>\n",
       "      <th>7</th>\n",
       "      <td>H &lt;hrod17@clintonemail.corn&gt;\\nFriday, March 11, 2011 1:36 PM\\nHuma Abedin\\nFw: H: Latest: How Syria is aiding Qaddafi and more... Sid\\nhrc memo Syria aiding libya 030311.docx\\nPis print.</td>\n",
       "      <td>H &lt;hrod17@clintonemail.corn&gt;\\n&lt;DATE_TIME&gt; PM\\nKimberly Gonzalez\\nFw: H: Latest: How USA is aiding USA and more... Benjamin Singh memo USA aiding USA &lt;US_DRIVER_LICENSE&gt;.docx\\nPis print.</td>\n",
       "    </tr>\n",
       "    <tr>\n",
       "      <th>...</th>\n",
       "      <td>...</td>\n",
       "      <td>...</td>\n",
       "    </tr>\n",
       "    <tr>\n",
       "      <th>7938</th>\n",
       "      <td>Hi. Sorry I haven't had a chance to see you, but I did want you to hear directly from me that it was a great result in\\nCancun. Way beyond any expectations. Many challenges ahead, but a very good day for us and a great day for Mexico.\\nHave a very happy holiday if I don't see you before. Best, Todd</td>\n",
       "      <td>Hi. Sorry I haven't had a chance to see you, but I did want you to hear directly from me that it was a great result in\\nCancun. Way beyond any expectations. Many challenges ahead, but a very good day for us and a great day for USA.\\nHave a very happy holiday if I don't see you before. Best, Andr...</td>\n",
       "    </tr>\n",
       "    <tr>\n",
       "      <th>7939</th>\n",
       "      <td>B6\\nI assume you saw this by now -- if not, it's worth a read.\\nForwarded message</td>\n",
       "      <td>&lt;US_DRIVER_LICENSE&gt;\\nI assume you saw this by now -- if not, it's worth a read.\\nForwarded message</td>\n",
       "    </tr>\n",
       "    <tr>\n",
       "      <th>7941</th>\n",
       "      <td>Big change of plans in the Senate. Senator Reid just announced that he was no longer going to move forward with the\\nomnibus appropriations bill. Instead, he filed cloture motions on the repeal of Don't Ask, Don't Tell and the DREAM\\nAct.\\nThose petitions will ripen on Saturday. So it looks like...</td>\n",
       "      <td>Big change of plans in the Senate. Senator Daniel Mendoza just announced that he was no longer going to move forward with the\\nomnibus appropriations bill. Instead, he filed cloture motions on the repeal of Don't Ask, Don't Tell and the DREAM\\nAct.\\nThose petitions will ripen on &lt;DATE_TIME&gt;. So ...</td>\n",
       "    </tr>\n",
       "    <tr>\n",
       "      <th>7943</th>\n",
       "      <td>PVerveer B6\\nFriday, December 17, 2010 12:12 AM\\nFrom B6\\nPlease\\nlet me know if I can be of any help to your department and will happy to do and please thank\\nMrs. Hillary Clinton on behalf of me and\\n. supporting Afghan women.\\n•Thank you,\\nB6\\nB6\\nB6\\nB6\\nB6\\nB6\\nB6\\nB6</td>\n",
       "      <td>PVerveer &lt;US_DRIVER_LICENSE&gt;\\n&lt;DATE_TIME&gt;From &lt;US_DRIVER_LICENSE&gt;\\nPlease\\nlet me know if I can be of any help to your department and will happy to do and please thank\\nMrs. Connor Robinson-Elliott on behalf of me and\\n. supporting &lt;NRP&gt; women.\\nDavid Hunt you,\\n&lt;US_DRIVER_LICENSE&gt;\\n&lt;US_DRIVER_L...</td>\n",
       "    </tr>\n",
       "    <tr>\n",
       "      <th>7944</th>\n",
       "      <td>See below.</td>\n",
       "      <td>See below.</td>\n",
       "    </tr>\n",
       "  </tbody>\n",
       "</table>\n",
       "<p>6742 rows × 2 columns</p>\n",
       "</div>"
      ],
      "text/plain": [
       "                                                                                                                                                                                                                                                                                                ExtractedBodyText  \\\n",
       "1                                                                                                       B6\\nThursday, March 3, 2011 9:45 PM\\nH: Latest How Syria is aiding Qaddafi and more... Sid\\nhrc memo syria aiding libya 030311.docx; hrc memo syria aiding libya 030311.docx\\nMarch 3, 2011\\nFor: Hillary   \n",
       "2                                                                                                                                                                                                                                                                                                             Thx   \n",
       "4                                                                                                                       H <hrod17@clintonemail.com>\\nFriday, March 11, 2011 1:36 PM\\nHuma Abedin\\nFw: H: Latest: How Syria is aiding Qaddafi and more... Sid\\nhrc memo syria aiding libya 030311.docx\\nPis print.   \n",
       "5     Pis print.\\n-•-...-^\\nH < hrod17@clintonernailcom>\\nWednesday, September 12, 2012 2:11 PM\\n°Russorv@state.gov'\\nFw: Meet The Right-Wing Extremist Behind Anti-fvluslim Film That Sparked Deadly Riots\\nFrom [meat)\\nSent: Wednesday, September 12, 2012 01:00 PM\\nTo: 11\\nSubject: Meet The Right Wing E...   \n",
       "7                                                                                                                      H <hrod17@clintonemail.corn>\\nFriday, March 11, 2011 1:36 PM\\nHuma Abedin\\nFw: H: Latest: How Syria is aiding Qaddafi and more... Sid\\nhrc memo Syria aiding libya 030311.docx\\nPis print.   \n",
       "...                                                                                                                                                                                                                                                                                                           ...   \n",
       "7938  Hi. Sorry I haven't had a chance to see you, but I did want you to hear directly from me that it was a great result in\\nCancun. Way beyond any expectations. Many challenges ahead, but a very good day for us and a great day for Mexico.\\nHave a very happy holiday if I don't see you before. Best, Todd   \n",
       "7939                                                                                                                                                                                                                            B6\\nI assume you saw this by now -- if not, it's worth a read.\\nForwarded message   \n",
       "7941  Big change of plans in the Senate. Senator Reid just announced that he was no longer going to move forward with the\\nomnibus appropriations bill. Instead, he filed cloture motions on the repeal of Don't Ask, Don't Tell and the DREAM\\nAct.\\nThose petitions will ripen on Saturday. So it looks like...   \n",
       "7943                            PVerveer B6\\nFriday, December 17, 2010 12:12 AM\\nFrom B6\\nPlease\\nlet me know if I can be of any help to your department and will happy to do and please thank\\nMrs. Hillary Clinton on behalf of me and\\n. supporting Afghan women.\\n•Thank you,\\nB6\\nB6\\nB6\\nB6\\nB6\\nB6\\nB6\\nB6   \n",
       "7944                                                                                                                                                                                                                                                                                                   See below.   \n",
       "\n",
       "                                                                                                                                                                                                                                                                                                  anonymized_text  \n",
       "1                                                                                        <US_DRIVER_LICENSE>\\n<DATE_TIME> <DATE_TIME>\\nH: Latest How USA is aiding USA and more... Sid\\nhrc memo syria aiding USA <US_DRIVER_LICENSE>.docx; <NRP> memo syria aiding USA <DATE_TIME>\\nFor: Anastasie Barbier-Barbe  \n",
       "2                                                                                                                                                                                                                                                                                                             Thx  \n",
       "4                                                                                                                                  H <kthompson@gmail.com>\\n<DATE_TIME> PM\\nMeredith Cortez\\nFw: H: Latest: How USA is aiding USA and more... Sid\\nhrc memo syria aiding USA <US_DRIVER_LICENSE>.docx\\nPis print.  \n",
       "5     Pis print.\\n-•-...-^\\nH < hrod17@clintonernailcom>\\n<DATE_TIME> PM\\n°robert76@barton.com'\\nFw: Meet The Right-Wing Extremist Behind Anti-fvluslim Film That Sparked Deadly Riots\\nFrom [meat)\\nSent: <DATE_TIME> <DATE_TIME>\\nTo: 11\\nSubject: Meet The Right Wing Extremist Behind Anti-Muslim Film Tha...  \n",
       "7                                                                                                                       H <hrod17@clintonemail.corn>\\n<DATE_TIME> PM\\nKimberly Gonzalez\\nFw: H: Latest: How USA is aiding USA and more... Benjamin Singh memo USA aiding USA <US_DRIVER_LICENSE>.docx\\nPis print.  \n",
       "...                                                                                                                                                                                                                                                                                                           ...  \n",
       "7938  Hi. Sorry I haven't had a chance to see you, but I did want you to hear directly from me that it was a great result in\\nCancun. Way beyond any expectations. Many challenges ahead, but a very good day for us and a great day for USA.\\nHave a very happy holiday if I don't see you before. Best, Andr...  \n",
       "7939                                                                                                                                                                                                           <US_DRIVER_LICENSE>\\nI assume you saw this by now -- if not, it's worth a read.\\nForwarded message  \n",
       "7941  Big change of plans in the Senate. Senator Daniel Mendoza just announced that he was no longer going to move forward with the\\nomnibus appropriations bill. Instead, he filed cloture motions on the repeal of Don't Ask, Don't Tell and the DREAM\\nAct.\\nThose petitions will ripen on <DATE_TIME>. So ...  \n",
       "7943  PVerveer <US_DRIVER_LICENSE>\\n<DATE_TIME>From <US_DRIVER_LICENSE>\\nPlease\\nlet me know if I can be of any help to your department and will happy to do and please thank\\nMrs. Connor Robinson-Elliott on behalf of me and\\n. supporting <NRP> women.\\nDavid Hunt you,\\n<US_DRIVER_LICENSE>\\n<US_DRIVER_L...  \n",
       "7944                                                                                                                                                                                                                                                                                                   See below.  \n",
       "\n",
       "[6742 rows x 2 columns]"
      ]
     },
     "execution_count": 22,
     "metadata": {},
     "output_type": "execute_result"
    }
   ],
   "source": [
    "pd.set_option('max_colwidth', 300)\n",
    "df[['ExtractedBodyText', 'anonymized_text']]"
   ]
  },
  {
   "cell_type": "markdown",
   "id": "47e5f19b",
   "metadata": {},
   "source": [
    "# Conclusion"
   ]
  },
  {
   "cell_type": "markdown",
   "id": "f3e42b03",
   "metadata": {},
   "source": [
    "The pipeline suggested may be easily adjusted for your personal needs with more heavy NER models (en_core_web_trf, for example), custom rules, another confidence scores, etc. Moreover, you can upgrade your pipeline for multiple languages (https://microsoft.github.io/presidio/analyzer/languages/).\n",
    "From the productionalization point of view, the code may also be launched with Spark via simply adding several lines of code (check the full code). Or you can use Presidio as an HTTP service (https://microsoft.github.io/presidio/samples/docker/).\n",
    "Moreover, Presidio works with images (https://microsoft.github.io/presidio/image-redactor/)."
   ]
  }
 ],
 "metadata": {
  "kernelspec": {
   "display_name": "virtualenv",
   "language": "python",
   "name": "python3"
  },
  "language_info": {
   "codemirror_mode": {
    "name": "ipython",
    "version": 3
   },
   "file_extension": ".py",
   "mimetype": "text/x-python",
   "name": "python",
   "nbconvert_exporter": "python",
   "pygments_lexer": "ipython3",
   "version": "3.9.7"
  }
 },
 "nbformat": 4,
 "nbformat_minor": 5
}
